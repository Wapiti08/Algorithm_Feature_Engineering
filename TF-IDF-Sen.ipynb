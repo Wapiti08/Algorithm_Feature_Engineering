{
 "cells": [
  {
   "cell_type": "markdown",
   "metadata": {},
   "source": [
    "# The realization of TF-IDF for sentences\n",
    "\n",
    "**document will be composed of api callings and registry operations**"
   ]
  },
  {
   "cell_type": "code",
   "execution_count": 1,
   "metadata": {},
   "outputs": [],
   "source": [
    "from nltk.corpus import stopwords\n",
    "import pickle"
   ]
  },
  {
   "cell_type": "code",
   "execution_count": 2,
   "metadata": {},
   "outputs": [],
   "source": [
    "# combine the title with the values\n",
    "def splice_key_value(file):\n",
    "    registry_values = []\n",
    "    with open(file,'rb') as fr:\n",
    "        registry_values_dict = pickle.load(fr, encoding=\"bytes\")\n",
    "    for key, values in registry_values_dict.items():\n",
    "        for value in values:\n",
    "            registry_values.append(key+'_'+str(value))\n",
    "    return registry_values"
   ]
  },
  {
   "cell_type": "code",
   "execution_count": 3,
   "metadata": {},
   "outputs": [],
   "source": [
    "registry_values_ransom_file = '../dataset/registry_values/registry_values_ransom.pkl'\n",
    "registry_values_normal_file = '../dataset/registry_values/registry_values_normal.pkl'\n",
    "\n",
    "registry_values_ransom_list = splice_key_value(registry_values_ransom_file)\n",
    "registry_values_normal_list = splice_key_value(registry_values_normal_file)"
   ]
  },
  {
   "cell_type": "code",
   "execution_count": 4,
   "metadata": {},
   "outputs": [
    {
     "data": {
      "text/plain": [
       "50515"
      ]
     },
     "execution_count": 4,
     "metadata": {},
     "output_type": "execute_result"
    }
   ],
   "source": [
    "len(registry_values_ransom_list)"
   ]
  },
  {
   "cell_type": "code",
   "execution_count": 5,
   "metadata": {},
   "outputs": [
    {
     "data": {
      "text/plain": [
       "6657"
      ]
     },
     "execution_count": 5,
     "metadata": {},
     "output_type": "execute_result"
    }
   ],
   "source": [
    "len(set(registry_values_ransom_list))"
   ]
  },
  {
   "cell_type": "code",
   "execution_count": 6,
   "metadata": {},
   "outputs": [
    {
     "data": {
      "text/plain": [
       "['regkey_opened_HKEY_LOCAL_MACHINE\\\\System\\\\CurrentControlSet\\\\Services\\\\DnsCache\\\\Parameters',\n",
       " 'regkey_opened_HKEY_LOCAL_MACHINE\\\\Software\\\\Policies\\\\Microsoft\\\\Windows NT\\\\DnsClient',\n",
       " 'regkey_opened_HKEY_LOCAL_MACHINE\\\\Software\\\\Microsoft\\\\Tracing',\n",
       " 'regkey_opened_HKEY_LOCAL_MACHINE\\\\Software\\\\Policies\\\\Microsoft\\\\System\\\\DNSClient',\n",
       " 'regkey_opened_HKEY_LOCAL_MACHINE\\\\System\\\\CurrentControlSet\\\\Services\\\\Tcpip\\\\Parameters']"
      ]
     },
     "execution_count": 6,
     "metadata": {},
     "output_type": "execute_result"
    }
   ],
   "source": [
    "registry_values_ransom_list[:5]"
   ]
  },
  {
   "cell_type": "markdown",
   "metadata": {},
   "source": [
    "# Term Frequency"
   ]
  },
  {
   "cell_type": "code",
   "execution_count": 7,
   "metadata": {},
   "outputs": [],
   "source": [
    "import numpy as np\n",
    "\n",
    "# function to convert string to lower case and delete the stop words in document\n",
    "def preprocess_string(document):\n",
    "    stop_words = set(stopwords.words('english'))\n",
    "    # convert to lowercase\n",
    "    registry_values_list = np.char.lower(document)\n",
    "    # split sentences into words\n",
    "    registry_words = []\n",
    "    for registry_value in registry_values_list:\n",
    "        words = registry_value.split(\"\\\\\")\n",
    "        for word in words:\n",
    "            registry_words.append(word)\n",
    "    # delete stop words in them\n",
    "    for stop_word in stop_words:\n",
    "        try:\n",
    "            registry_words.remove(stop_word)\n",
    "        except:\n",
    "            continue\n",
    "        finally:\n",
    "            return registry_words\n"
   ]
  },
  {
   "cell_type": "code",
   "execution_count": 8,
   "metadata": {},
   "outputs": [],
   "source": [
    "# here, we count how many times a word appears in the words array\n",
    "# we do not use n-grams,cuz there are single string not only word\n",
    "from collections import Counter\n",
    "\n",
    "def countWords(words):\n",
    "    '''\n",
    "        return: a dictionary of {WORD: COUNT} where count is how many times\n",
    "        that word appears in \"words\"\n",
    "    '''\n",
    "    words_dict ={}\n",
    "    word_dict = Counter(words)\n",
    "    return word_dict\n"
   ]
  },
  {
   "cell_type": "code",
   "execution_count": 9,
   "metadata": {},
   "outputs": [],
   "source": [
    "# calculate the frequency of term in a document\n",
    "def termFrequency(document):\n",
    "    word_freq = {}\n",
    "    # get the words without stop words\n",
    "    registry_words = preprocess_string(document)\n",
    "    # get the count for terms\n",
    "    word_dict = countWords(registry_words)\n",
    "    for key, value in word_dict.items():\n",
    "        word_freq[key] = word_dict[key]/len(registry_words)\n",
    "    return word_freq"
   ]
  },
  {
   "cell_type": "markdown",
   "metadata": {},
   "source": [
    "calculate the TF for two datasets"
   ]
  },
  {
   "cell_type": "code",
   "execution_count": 10,
   "metadata": {},
   "outputs": [],
   "source": [
    "word_freq_ransom = termFrequency(registry_values_ransom_list)\n",
    "word_freq_normal = termFrequency(registry_values_normal_list)"
   ]
  },
  {
   "cell_type": "code",
   "execution_count": 11,
   "metadata": {},
   "outputs": [],
   "source": [
    "# calculate the sentence importance\n",
    "def senFrequency(sentence, word_freq):\n",
    "    # split the sentence into words\n",
    "    words_list = sentence.split('\\\\')\n",
    "    words_list = np.char.lower(words_list)\n",
    "    # log the frequency of sentences\n",
    "    sen_freq_total = 0\n",
    "    # log the number of non stop words in each process\n",
    "    num = 0\n",
    "    for word, freq in word_freq.items():\n",
    "        if word in words_list:\n",
    "            sen_freq_total += word_freq[word]\n",
    "            num += 1\n",
    "    sen_freq = np.round(sen_freq_total/num ,3)\n",
    "    return sen_freq"
   ]
  },
  {
   "cell_type": "code",
   "execution_count": 12,
   "metadata": {},
   "outputs": [],
   "source": [
    "# # generate the sen_freq dict with indexes as the keys\n",
    "# sen_freq_ran_dict = {}\n",
    "# for i, sentence in enumerate(registry_values_ransom_list): \n",
    "#     # input the lowercased sentence\n",
    "    \n",
    "#     sen_freq = senFrequency(sentence, word_freq_ransom)\n",
    "#     sen_freq_ran_dict[str(i)] = sen_freq"
   ]
  },
  {
   "cell_type": "code",
   "execution_count": null,
   "metadata": {},
   "outputs": [],
   "source": [
    "# generate the sen_freq dict with strings as the keys\n",
    "sen_freq_ran_dict = {}\n",
    "sen_freq_nor_dict = {}\n",
    "for sentence in registry_values_ransom_list: \n",
    "    # input the lowercase sentence\n",
    "    sen_freq = senFrequency(sentence, word_freq_ransom)\n",
    "    sen_freq_ran_dict[sentence] = sen_freq\n",
    "\n",
    "for sentence in registry_values_normal_list: \n",
    "    # input the lowercase sentence\n",
    "    sen_freq = senFrequency(sentence, word_freq_normal)\n",
    "    sen_freq_nor_dict[sentence] = sen_freq"
   ]
  },
  {
   "cell_type": "code",
   "execution_count": null,
   "metadata": {},
   "outputs": [],
   "source": [
    "sen_freq_ran_dict"
   ]
  },
  {
   "cell_type": "markdown",
   "metadata": {},
   "source": [
    "# Inverse document frequency"
   ]
  },
  {
   "cell_type": "code",
   "execution_count": null,
   "metadata": {},
   "outputs": [],
   "source": [
    "# IDF used over many documents, here, each sentence is its own document\n",
    "# IDF = ln(number of docs/number docs the term appears in)\n",
    "import math\n",
    "\n",
    "def InverseDocumentFreq(document):\n",
    "    # get all the unique words\n",
    "    registry_words =  preprocess_string(document)\n",
    "    # get the word dict with {word: occurences} in all documents\n",
    "    word_dict = countWords(registry_words)\n",
    "    # the number of document\n",
    "    num_docs = len(document)\n",
    "    # calculate the IDF for every words\n",
    "    word_IDF = {}\n",
    "    for word in registry_words:\n",
    "        word_IDF[word] = np.round(math.log10(num_docs/word_dict[word]), 3)\n",
    "\n",
    "    return word_IDF"
   ]
  },
  {
   "cell_type": "markdown",
   "metadata": {},
   "source": [
    "calculate the IDF for two datasets"
   ]
  },
  {
   "cell_type": "code",
   "execution_count": null,
   "metadata": {},
   "outputs": [],
   "source": [
    "word_IDF_ran = InverseDocumentFreq(registry_values_ransom_list)\n",
    "word_IDF_nor = InverseDocumentFreq(registry_values_normal_list)"
   ]
  },
  {
   "cell_type": "code",
   "execution_count": null,
   "metadata": {},
   "outputs": [],
   "source": [
    "word_IDF_ran"
   ]
  },
  {
   "cell_type": "code",
   "execution_count": null,
   "metadata": {},
   "outputs": [],
   "source": [
    "# calculate the IDF for single sentence\n",
    "def SentenceIDF(word_IDF, sentence):\n",
    "    # split the sentence into words\n",
    "    words_list = sentence.split('\\\\')\n",
    "    words_list = np.char.lower(words_list)\n",
    "    # log the frequency of sentences\n",
    "    sen_IDF_total = 0\n",
    "    # log the number of non stop words in each process\n",
    "    num = 0\n",
    "    for word, IDF in word_IDF.items():\n",
    "        if word in words_list:\n",
    "            sen_IDF_total += word_IDF[word]\n",
    "            num += 1\n",
    "    sen_IDF = np.round(sen_IDF_total/num ,3)\n",
    "    return sen_IDF"
   ]
  },
  {
   "cell_type": "markdown",
   "metadata": {},
   "source": [
    "calculate the IDF for all sentences in ran dataset:"
   ]
  },
  {
   "cell_type": "code",
   "execution_count": null,
   "metadata": {},
   "outputs": [],
   "source": [
    "sen_IDF_ran_dict = {}\n",
    "sen_IDF_nor_dict = {}\n",
    "for sentence in registry_values_ransom_list:\n",
    "    sen_IDF = SentenceIDF(word_IDF_ran, sentence)\n",
    "    sen_IDF_ran_dict[sentence] = sen_IDF\n",
    "\n",
    "for sentence in registry_values_normal_list:\n",
    "    sen_IDF = SentenceIDF(word_IDF_nor, sentence)\n",
    "    sen_IDF_nor_dict[sentence] = sen_IDF\n"
   ]
  },
  {
   "cell_type": "code",
   "execution_count": null,
   "metadata": {},
   "outputs": [],
   "source": [
    "# calculate the TF_IDF for sentences\n",
    "def TF_IDF(sen_TF_dict, sen_IDF_dict):\n",
    "    # two dict should have the same keys\n",
    "    sen_TF_IDF = {}\n",
    "    for key in sen_TF_dict.keys():\n",
    "        sen_TF_IDF[key] =\n",
    "        sen_TF_dict[key] * sen_IDF_dict[key]\n",
    "        \n",
    "    return sen_TF_IDF"
   ]
  },
  {
   "cell_type": "markdown",
   "metadata": {},
   "source": [
    "calculate the sentence importance for two datasets"
   ]
  },
  {
   "cell_type": "code",
   "execution_count": null,
   "metadata": {},
   "outputs": [],
   "source": [
    "sen_ran_TF_IDF = TF_IDF(sen_freq_ran_dict, sen_IDF_ran_dict)\n",
    "sen_nor_TF_IDF = TF_IDF(sen_freq_nor_dict, sen_IDF_nor_dict)"
   ]
  },
  {
   "cell_type": "code",
   "execution_count": null,
   "metadata": {},
   "outputs": [],
   "source": [
    "sen_ran_TF_IDF "
   ]
  },
  {
   "cell_type": "markdown",
   "metadata": {},
   "source": [
    "compare the importance ranking for two datasets"
   ]
  },
  {
   "cell_type": "code",
   "execution_count": null,
   "metadata": {},
   "outputs": [],
   "source": [
    "# create the rank dataframe for ransomware dataset\n",
    "sen_ran_df = pd.Series(sen_ran_TF_IDF.keys()).reset_index()\n",
    "sen_ran_df.columns = ['Index','Features']\n",
    "sen_ran_df['importance'] = pd.Series(sen_ran_TF_IDF.values())\n",
    "sen_ran_df = sen_ran_df.sort_values(by=['importance'], ascending=False)\n",
    "sen_ran_df['rank'] = range(1,len(sen_ran_df)+1)"
   ]
  },
  {
   "cell_type": "code",
   "execution_count": null,
   "metadata": {},
   "outputs": [],
   "source": [
    "# create the rank dataframe for normal dataset\n",
    "sen_nor_df = pd.Series(sen_nor_TF_IDF.keys()).reset_index()\n",
    "sen_nor_df.columns = ['Index', 'Features']\n",
    "sen_nor_df['importance'] = pd.Series(sen_nor_TF_IDF.values())\n",
    "sen_nor_df = sen_nor_df.sort_values(by=['importance'], ascending=False)\n",
    "sen_nor_df['rank'] = range(1, len(sen_nor_df)+1)"
   ]
  },
  {
   "cell_type": "markdown",
   "metadata": {},
   "source": [
    "Merge two dataframe and compare the feature ranks"
   ]
  },
  {
   "cell_type": "code",
   "execution_count": null,
   "metadata": {},
   "outputs": [],
   "source": [
    "feature_ranks = sen_ran_df.merge(sen_nor_df, on=['features'])\n",
    "feature_ranks_com = feature_ranks[['features','rank_x','rank_y']]\n",
    "feature_ranks_com"
   ]
  },
  {
   "cell_type": "markdown",
   "metadata": {},
   "source": [
    "# Reference：\n",
    "**Automated Behavioral Analysis of Malware A Case Study of WannaCry Ransomware**"
   ]
  },
  {
   "cell_type": "code",
   "execution_count": null,
   "metadata": {},
   "outputs": [],
   "source": []
  }
 ],
 "metadata": {
  "kernelspec": {
   "display_name": "Python 3.8.1 64-bit",
   "language": "python",
   "name": "python38164bitdbd76ed984a5488496eb976b9e8b3b8e"
  },
  "language_info": {
   "codemirror_mode": {
    "name": "ipython",
    "version": 3
   },
   "file_extension": ".py",
   "mimetype": "text/x-python",
   "name": "python",
   "nbconvert_exporter": "python",
   "pygments_lexer": "ipython3",
   "version": "3.8.1"
  }
 },
 "nbformat": 4,
 "nbformat_minor": 4
}
