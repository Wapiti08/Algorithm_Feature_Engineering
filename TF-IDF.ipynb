{
 "cells": [
  {
   "cell_type": "markdown",
   "metadata": {},
   "source": [
    "# The realization of TF-IDF for sentences\n",
    "\n",
    "**document will be composed of api callings and registry operations**"
   ]
  },
  {
   "cell_type": "code",
   "execution_count": 2,
   "metadata": {},
   "outputs": [],
   "source": [
    "from nltk.corpus import stopwords\n",
    "import pickle"
   ]
  },
  {
   "cell_type": "code",
   "execution_count": 3,
   "metadata": {},
   "outputs": [],
   "source": [
    "# combine the title with the values\n",
    "def splice_key_value(file):\n",
    "    registry_values = []\n",
    "    with open(file,'rb') as fr:\n",
    "        registry_values_dict = pickle.load(fr, encoding=\"bytes\")\n",
    "    for key, values in registry_values_dict.items():\n",
    "        for value in values:\n",
    "            registry_values.append(key+'_'+str(value))\n",
    "    return registry_values"
   ]
  },
  {
   "cell_type": "code",
   "execution_count": 4,
   "metadata": {},
   "outputs": [],
   "source": [
    "registry_values_ransom_file = '../dataset/registry_values/registry_values_ransom.pkl'\n",
    "registry_values_normal_file = '../dataset/registry_values/registry_values_normal.pkl'\n",
    "\n",
    "registry_values_ransom_list = splice_key_value(registry_values_ransom_file)\n",
    "registry_values_normal_list = splice_key_value(registry_values_normal_file)"
   ]
  },
  {
   "cell_type": "code",
   "execution_count": 5,
   "metadata": {},
   "outputs": [
    {
     "data": {
      "text/plain": [
       "50515"
      ]
     },
     "execution_count": 5,
     "metadata": {},
     "output_type": "execute_result"
    }
   ],
   "source": [
    "len(registry_values_ransom_list)"
   ]
  },
  {
   "cell_type": "code",
   "execution_count": 6,
   "metadata": {},
   "outputs": [
    {
     "data": {
      "text/plain": [
       "6657"
      ]
     },
     "execution_count": 6,
     "metadata": {},
     "output_type": "execute_result"
    }
   ],
   "source": [
    "len(set(registry_values_ransom_list))"
   ]
  },
  {
   "cell_type": "code",
   "execution_count": 7,
   "metadata": {},
   "outputs": [
    {
     "data": {
      "text/plain": [
       "['regkey_opened_HKEY_LOCAL_MACHINE\\\\System\\\\CurrentControlSet\\\\Services\\\\DnsCache\\\\Parameters',\n",
       " 'regkey_opened_HKEY_LOCAL_MACHINE\\\\Software\\\\Policies\\\\Microsoft\\\\Windows NT\\\\DnsClient',\n",
       " 'regkey_opened_HKEY_LOCAL_MACHINE\\\\Software\\\\Microsoft\\\\Tracing',\n",
       " 'regkey_opened_HKEY_LOCAL_MACHINE\\\\Software\\\\Policies\\\\Microsoft\\\\System\\\\DNSClient',\n",
       " 'regkey_opened_HKEY_LOCAL_MACHINE\\\\System\\\\CurrentControlSet\\\\Services\\\\Tcpip\\\\Parameters']"
      ]
     },
     "execution_count": 7,
     "metadata": {},
     "output_type": "execute_result"
    }
   ],
   "source": [
    "registry_values_ransom_list[:5]"
   ]
  },
  {
   "cell_type": "code",
   "execution_count": 36,
   "metadata": {},
   "outputs": [],
   "source": [
    "import numpy as np\n",
    "\n",
    "# function to convert string to lower case and delete the stop words in document\n",
    "def preprocess_string(document):\n",
    "    stop_words = set(stopwords.words('english'))\n",
    "    # convert to lowercase\n",
    "    registry_values_list = np.char.lower(document)\n",
    "    # split sentences into words\n",
    "    registry_words = []\n",
    "    for registry_value in registry_values_list:\n",
    "        words = registry_value.split(\"\\\\\")\n",
    "        for word in words:\n",
    "            registry_words.append(word)\n",
    "    # delete stop words in them\n",
    "    for stop_word in stop_words:\n",
    "        try:\n",
    "            registry_words.remove(stop_word)\n",
    "        except:\n",
    "            continue\n",
    "        finally:\n",
    "            return registry_words\n"
   ]
  },
  {
   "cell_type": "code",
   "execution_count": 37,
   "metadata": {},
   "outputs": [],
   "source": [
    "# here, we count how many times a word appears in the words array\n",
    "# we do not use n-grams,cuz there are single string not only word\n",
    "from collections import Counter\n",
    "\n",
    "def countWords(words):\n",
    "    '''\n",
    "        return: a dictionary of {WORD: COUNT} where count is how many times\n",
    "        that word appears in \"words\"\n",
    "    '''\n",
    "    words_dict ={}\n",
    "    word_dict = Counter(words)\n",
    "    return word_dict\n"
   ]
  },
  {
   "cell_type": "code",
   "execution_count": 38,
   "metadata": {},
   "outputs": [],
   "source": [
    "# calculate the frequency of term in a document\n",
    "def termFrequency(document):\n",
    "    word_freq = {}\n",
    "    # get the words without stop words\n",
    "    registry_words = preprocess_string(document)\n",
    "    # get the count for terms\n",
    "    word_dict = countWords(registry_words)\n",
    "    for key, value in word_dict.items():\n",
    "        word_freq[key] = word_dict[key]/len(registry_words)\n",
    "    return word_freq"
   ]
  },
  {
   "cell_type": "code",
   "execution_count": 39,
   "metadata": {},
   "outputs": [],
   "source": [
    "word_freq_ransom = termFrequency(registry_values_ransom_list)"
   ]
  },
  {
   "cell_type": "code",
   "execution_count": 47,
   "metadata": {},
   "outputs": [],
   "source": [
    "# calculate the sentence importance\n",
    "def senFrequency(sentence, word_freq):\n",
    "    # split the sentence into words\n",
    "    words_list = sentence.split('\\\\')\n",
    "    words_list = np.char.lower(words_list)\n",
    "    # log the frequency of sentences\n",
    "    sen_freq_total = 0\n",
    "    # log the number of non stop words in each process\n",
    "    num = 0\n",
    "    for word, freq in word_freq.items():\n",
    "        if word in words_list:\n",
    "            sen_freq_total += word_freq[word]\n",
    "            num += 1\n",
    "    sen_freq = np.round(sen_freq_total/num ,3)\n",
    "    return sen_freq"
   ]
  },
  {
   "cell_type": "code",
   "execution_count": null,
   "metadata": {},
   "outputs": [],
   "source": [
    "# # generate the sen_freq dict\n",
    "# sen_freq_ran_dict = {}\n",
    "# for i, sentence in enumerate(registry_values_ransom_list): \n",
    "#     # input the lowercased sentence\n",
    "    \n",
    "#     sen_freq = senFrequency(sentence, word_freq_ransom)\n",
    "#     sen_freq_ran_dict[str(i)] = sen_freq"
   ]
  },
  {
   "cell_type": "code",
   "execution_count": null,
   "metadata": {},
   "outputs": [],
   "source": [
    "# generate the sen_freq dict\n",
    "sen_freq_ran_dict = {}\n",
    "for sentence in registry_values_ransom_list: \n",
    "    # input the lowercase sentence\n",
    "    sen_freq = senFrequency(sentence, word_freq_ransom)\n",
    "    sen_freq_ran_dict[sentence] = sen_freq"
   ]
  },
  {
   "cell_type": "code",
   "execution_count": null,
   "metadata": {},
   "outputs": [],
   "source": [
    "sen_freq_ran_dict"
   ]
  },
  {
   "cell_type": "markdown",
   "metadata": {},
   "source": [
    "# Reference：\n",
    "**Automated Behavioral Analysis of Malware A Case Study of WannaCry Ransomware**"
   ]
  },
  {
   "cell_type": "code",
   "execution_count": null,
   "metadata": {},
   "outputs": [],
   "source": []
  }
 ],
 "metadata": {
  "kernelspec": {
   "display_name": "Python 3.8.1 64-bit",
   "language": "python",
   "name": "python38164bitdbd76ed984a5488496eb976b9e8b3b8e"
  },
  "language_info": {
   "codemirror_mode": {
    "name": "ipython",
    "version": 3
   },
   "file_extension": ".py",
   "mimetype": "text/x-python",
   "name": "python",
   "nbconvert_exporter": "python",
   "pygments_lexer": "ipython3",
   "version": "3.8.1"
  }
 },
 "nbformat": 4,
 "nbformat_minor": 4
}
