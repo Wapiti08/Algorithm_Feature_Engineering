{
 "cells": [
  {
   "cell_type": "markdown",
   "metadata": {},
   "source": [
    "## Data Analysis\n",
    "\n",
    "I use the data from [Kaggle](https://www.kaggle.com/c/house-prices-advanced-regression-techniques/data) to explore the potential problems I have mentioned\n"
   ]
  },
  {
   "cell_type": "code",
   "execution_count": 2,
   "metadata": {},
   "outputs": [],
   "source": [
    "import pandas as pd\n",
    "import numpy as np\n",
    "\n",
    "import matplotlib.pyplot as plt\n",
    "import seaborn as sns\n",
    "\n",
    "import scipy.stats as stats\n",
    "\n",
    "# diaplay all the columns\n",
    "pd.pandas.set_option(\"display.max_columns\", None)\n",
    "\n",
    "data = pd.read_csv(\"train.csv\")\n",
    "\n",
    "data.drop(\"Id\", axis=1, inplace=True)"
   ]
  },
  {
   "cell_type": "code",
   "execution_count": 7,
   "metadata": {},
   "outputs": [],
   "source": [
    "# get the prediction target\n",
    "data['SalePrice']\n",
    "\n",
    "# get the categorical and numerical featuers\n",
    "car_feas = [fea for fea in data.columns if data[fea].dtype == 'O']\n",
    "## add MSSubClass to cate features\n",
    "car_feas = car_feas + ['MSSubClass']\n",
    "## cast all variables as categorical\n",
    "data[car_feas] = data[car_feas].astype('O')\n",
    "\n",
    "num_feas = [fea for fea in data.columns if fea not in car_feas and fea != \"SalePrice\"]\n"
   ]
  },
  {
   "cell_type": "markdown",
   "metadata": {},
   "source": [
    "## Feature Engineering\n"
   ]
  },
  {
   "cell_type": "code",
   "execution_count": 11,
   "metadata": {},
   "outputs": [],
   "source": [
    "from sklearn.model_selection import train_test_split\n",
    "from sklearn.preprocessing import MinMaxScaler, StandardScaler, RobustScaler, Normalizer\n",
    "import joblib\n",
    "\n",
    "\n",
    "X_train,X_test,y_train, y_test = train_test_split(\n",
    "    data.drop(['Id', 'SalePrice'],axis=1),\n",
    "    data['SalePrice'],\n",
    "    test_size=0.1,\n",
    "    random_state=0 \n",
    ")\n",
    "\n",
    "# handle skewed distribution in prediction matrix\n",
    "y_train = np.log(y_train)\n",
    "y_test = np.log(y_test)"
   ]
  },
  {
   "cell_type": "markdown",
   "metadata": {},
   "source": [
    "### processing categorical variables\n",
    "\n",
    "replace missing value with the string 'missing' or the most frequent category"
   ]
  },
  {
   "cell_type": "code",
   "execution_count": 13,
   "metadata": {},
   "outputs": [],
   "source": [
    "# find features with missing values\n",
    "car_feas_with_na = [\n",
    "    fea for fea in car_feas\n",
    "    if X_train[fea].isnull().sum()>0\n",
    "]"
   ]
  },
  {
   "cell_type": "code",
   "execution_count": 20,
   "metadata": {},
   "outputs": [],
   "source": [
    "# find the features with high ratio with missing values -- replace with missing\n",
    "fea_str_missing = [\n",
    "    fea for fea in car_feas_with_na if X_train[fea].isnull().mean() > 0.1\n",
    "]\n",
    "\n",
    "# find the features with low ratio with missing values --- replace with most frequent category\n",
    "fea_str_category = [\n",
    "    fea for fea in car_feas_with_na if X_train[fea].isnull().mean() < 0.1\n",
    "]"
   ]
  },
  {
   "cell_type": "code",
   "execution_count": 21,
   "metadata": {},
   "outputs": [],
   "source": [
    "# replace missing values with string \"Missing\"\n",
    "X_train[fea_str_missing] = X_train[fea_str_missing].fillna(\"Missing\")\n",
    "X_test[fea_str_missing] = X_test[fea_str_missing].fillna(\"Missing\")"
   ]
  },
  {
   "cell_type": "code",
   "execution_count": 22,
   "metadata": {},
   "outputs": [],
   "source": [
    "for fea in fea_str_category:\n",
    "    # The mode of a set of values is the value that appears most often\n",
    "    mode = X_train[fea].mode()[0]\n",
    "    X_train[fea].fillna(mode, inplace=True)\n",
    "    X_test[fea].fillna(mode, inplace=True)"
   ]
  },
  {
   "cell_type": "markdown",
   "metadata": {},
   "source": [
    "### processing numeric variable\n",
    "\n",
    "replace missing values with mean"
   ]
  },
  {
   "cell_type": "code",
   "execution_count": null,
   "metadata": {},
   "outputs": [],
   "source": [
    "for fea in num_feas:\n",
    "    mean_val = data[fea].mean()\n",
    "    # add binary missing indicator\n",
    "    X_train[fea+'_na'] = np.where(X_train[fea].isnull(), 1, 0)\n",
    "    X_test[fea+'_na'] = np.where(X_test[fea].isnull(), 1, 0)\n",
    "\n",
    "    # replace missing values by the mean\n",
    "    X_train[fea].fillna(mean_val, inplace=True)\n",
    "    X_test[fea].fillna(mean_val, inplace=True)\n",
    "    "
   ]
  },
  {
   "cell_type": "markdown",
   "metadata": {},
   "source": [
    "numerical variable transformation"
   ]
  },
  {
   "cell_type": "code",
   "execution_count": null,
   "metadata": {},
   "outputs": [],
   "source": [
    "# logarithmic transformation ---- work only on positive numerical\n",
    "for var in [\"LotFrontage\", \"1stFlrSF\", \"GrLivArea\"]:\n",
    "    X_train[var] = np.log(X_train[var])\n",
    "    X_test[var] = np.log(X_test[var])\n",
    "\n",
    "# "
   ]
  },
  {
   "cell_type": "markdown",
   "metadata": {},
   "source": [
    "#### which preprocessing method\n",
    "\n",
    "*converting in the range [0,1] works particularly \n",
    "well if you are dealing with a sparse matrix and most of your values are zero*"
   ]
  },
  {
   "cell_type": "markdown",
   "metadata": {},
   "source": [
    "## Feature Selection\n"
   ]
  },
  {
   "cell_type": "markdown",
   "metadata": {},
   "source": [
    "## Model training"
   ]
  },
  {
   "cell_type": "markdown",
   "metadata": {},
   "source": []
  }
 ],
 "metadata": {
  "interpreter": {
   "hash": "8fecd871876602184e2def9d040398806a20c493ba8c7291bbd5a5358628e6cd"
  },
  "kernelspec": {
   "display_name": "Python 3.8.1 64-bit",
   "language": "python",
   "name": "python3"
  },
  "language_info": {
   "codemirror_mode": {
    "name": "ipython",
    "version": 3
   },
   "file_extension": ".py",
   "mimetype": "text/x-python",
   "name": "python",
   "nbconvert_exporter": "python",
   "pygments_lexer": "ipython3",
   "version": "3.8.1"
  },
  "orig_nbformat": 4
 },
 "nbformat": 4,
 "nbformat_minor": 2
}
